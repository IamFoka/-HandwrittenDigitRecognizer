{
 "cells": [
  {
   "cell_type": "code",
   "execution_count": 45,
   "metadata": {},
   "outputs": [
    {
     "name": "stdout",
     "output_type": "stream",
     "text": [
      "_________________________________________________________________\n",
      "Layer (type)                 Output Shape              Param #   \n",
      "=================================================================\n",
      "conv2d_24 (Conv2D)           (None, 30, 24, 24)        780       \n",
      "_________________________________________________________________\n",
      "max_pooling2d_23 (MaxPooling (None, 30, 12, 12)        0         \n",
      "_________________________________________________________________\n",
      "conv2d_25 (Conv2D)           (None, 15, 10, 10)        4065      \n",
      "_________________________________________________________________\n",
      "max_pooling2d_24 (MaxPooling (None, 15, 5, 5)          0         \n",
      "_________________________________________________________________\n",
      "dropout_12 (Dropout)         (None, 15, 5, 5)          0         \n",
      "_________________________________________________________________\n",
      "flatten_12 (Flatten)         (None, 375)               0         \n",
      "_________________________________________________________________\n",
      "dense_92 (Dense)             (None, 2048)              770048    \n",
      "_________________________________________________________________\n",
      "dense_93 (Dense)             (None, 2048)              4196352   \n",
      "_________________________________________________________________\n",
      "dense_94 (Dense)             (None, 2048)              4196352   \n",
      "_________________________________________________________________\n",
      "dense_95 (Dense)             (None, 1024)              2098176   \n",
      "_________________________________________________________________\n",
      "dense_96 (Dense)             (None, 512)               524800    \n",
      "_________________________________________________________________\n",
      "dense_97 (Dense)             (None, 256)               131328    \n",
      "_________________________________________________________________\n",
      "dense_98 (Dense)             (None, 128)               32896     \n",
      "_________________________________________________________________\n",
      "dense_99 (Dense)             (None, 64)                8256      \n",
      "_________________________________________________________________\n",
      "dense_100 (Dense)            (None, 32)                2080      \n",
      "_________________________________________________________________\n",
      "result (Dense)               (None, 10)                330       \n",
      "=================================================================\n",
      "Total params: 11,965,463\n",
      "Trainable params: 11,965,463\n",
      "Non-trainable params: 0\n",
      "_________________________________________________________________\n"
     ]
    }
   ],
   "source": [
    "from keras.datasets import mnist\n",
    "from keras.models import Sequential\n",
    "from keras.layers import Dense\n",
    "from keras.layers import Dropout\n",
    "from keras.layers import Flatten\n",
    "from keras.layers.convolutional import Conv2D\n",
    "from keras.layers.convolutional import MaxPooling2D\n",
    "from keras.utils import np_utils\n",
    "from keras import backend as K\n",
    "from matplotlib import pyplot as plt\n",
    "\n",
    "import numpy as np\n",
    "import cv2\n",
    "import os\n",
    "\n",
    "%matplotlib inline \n",
    "\n",
    "K.set_image_dim_ordering('th') #usa a ordem de parâmetros de imagem do Theano (canais da imagem(1), pixeis(28), pixeis(28))\n",
    "\n",
    "(x_train, y_train), (x_test, y_test) = mnist.load_data()\n",
    "#entrada/label       entrada/label\n",
    "#informações treino  informações teste\n",
    "\n",
    "\n",
    "x_train = x_train.reshape(x_train.shape[0], 1, 28, 28).astype('float32') #altera a estrutura do conjunto de treinos para que corresponda as do mnist\n",
    "x_test = x_test.reshape(x_test.shape[0], 1, 28, 28).astype('float32')# (quantidade imagens(train = 60000, test = 10000, quantidade canais imagem, pixeis, pixeis)\n",
    "\n",
    "x_train = x_train / 255 #para que intervalos de valores dos pixeis estejam entre 0 e 1, e não entre 0  e 255\n",
    "x_test = x_test / 255\n",
    "\n",
    "y_train = np_utils.to_categorical(y_train) #transforma o label na forma em que a net consegue entender na layer de output\n",
    "y_test = np_utils.to_categorical(y_test)\n",
    "\n",
    "qtd_classes = y_test.shape[1] #quantidade de classes na saída da FCL\n",
    "\n",
    "#abaixo começa o modelo de convnet de nome: batata\n",
    "\n",
    "batata = Sequential() #inicia o modelo\n",
    "\n",
    "batata.add(Conv2D(30, (5, 5), input_shape = (1, 28, 28), activation = 'relu'))\n",
    "#   (featured maps, tamanho filtro(x, y), formato dados de entrada, função de ativação)\n",
    "\n",
    "batata.add(MaxPooling2D(pool_size = (2, 2))) #tamanho da pool\n",
    "\n",
    "batata.add(Conv2D(15, (3, 3), input_shape = (1, 28, 28), activation = 'relu'))\n",
    "\n",
    "batata.add(MaxPooling2D(pool_size = (2, 2)))\n",
    "\n",
    "batata.add(Dropout(0.2)) #probabilidade de desligamento de neurônios por iteração (20%)\n",
    "\n",
    "batata.add(Flatten()) #transforma matriz em vetor, para a FCL poder receber como input\n",
    "\n",
    "batata.add(Dense(2048, activation = 'relu')) #FCL (Fully conected layers) onde ocorre de fato a classificação\n",
    "\n",
    "batata.add(Dense(2048, activation = 'relu'))\n",
    "\n",
    "batata.add(Dense(2048, activation = 'relu'))\n",
    "\n",
    "batata.add(Dense(1024, activation = 'relu'))\n",
    "\n",
    "batata.add(Dense(512, activation = 'relu'))\n",
    "\n",
    "batata.add(Dense(256, activation = 'relu'))\n",
    "\n",
    "batata.add(Dense(128, activation = 'relu'))\n",
    "\n",
    "batata.add(Dense(64, activation = 'relu'))\n",
    "\n",
    "batata.add(Dense(32, activation = 'relu'))\n",
    "\n",
    "batata.add(Dense(qtd_classes, activation = 'softmax', name = 'result')) #ultima camada da FCL, a de saída\n",
    "\n",
    "batata.compile(loss = 'categorical_crossentropy', optimizer = 'adam', metrics = ['accuracy']) #define função pra calcular a loss, função optimizer(redistribui os pesos), e o objetivo, nesse caso é precisão\n",
    "\n",
    "batata.summary()\n",
    "\n",
    "\n",
    "\n",
    "\n",
    "\n",
    "\n",
    "\n",
    "\n"
   ]
  },
  {
   "cell_type": "code",
   "execution_count": 47,
   "metadata": {},
   "outputs": [
    {
     "name": "stdout",
     "output_type": "stream",
     "text": [
      "Train on 60000 samples, validate on 10000 samples\n",
      "Epoch 1/10\n",
      "60000/60000 [==============================] - 296s 5ms/step - loss: 0.0560 - acc: 0.9860 - val_loss: 0.0387 - val_acc: 0.9911\n",
      "Epoch 2/10\n",
      "60000/60000 [==============================] - 292s 5ms/step - loss: 0.0480 - acc: 0.9884 - val_loss: 0.0347 - val_acc: 0.9911\n",
      "Epoch 3/10\n",
      "60000/60000 [==============================] - 313s 5ms/step - loss: 0.0473 - acc: 0.9881 - val_loss: 0.0490 - val_acc: 0.9888\n",
      "Epoch 4/10\n",
      "60000/60000 [==============================] - 293s 5ms/step - loss: 0.0433 - acc: 0.9901 - val_loss: 0.0428 - val_acc: 0.9901\n",
      "Epoch 5/10\n",
      "60000/60000 [==============================] - 294s 5ms/step - loss: 0.0414 - acc: 0.9901 - val_loss: 0.0358 - val_acc: 0.9919\n",
      "Epoch 6/10\n",
      "60000/60000 [==============================] - 292s 5ms/step - loss: 0.0372 - acc: 0.9913 - val_loss: 0.0332 - val_acc: 0.9922\n",
      "Epoch 7/10\n",
      "60000/60000 [==============================] - 291s 5ms/step - loss: 0.0363 - acc: 0.9917 - val_loss: 0.0440 - val_acc: 0.9903\n",
      "Epoch 8/10\n",
      "60000/60000 [==============================] - 294s 5ms/step - loss: 0.0317 - acc: 0.9928 - val_loss: 0.0395 - val_acc: 0.9898\n",
      "Epoch 9/10\n",
      "60000/60000 [==============================] - 291s 5ms/step - loss: 0.0318 - acc: 0.9927 - val_loss: 0.0488 - val_acc: 0.9894\n",
      "Epoch 10/10\n",
      "60000/60000 [==============================] - 296s 5ms/step - loss: 0.0314 - acc: 0.9927 - val_loss: 0.0401 - val_acc: 0.9915\n"
     ]
    },
    {
     "data": {
      "text/plain": [
       "<keras.callbacks.History at 0x1e9c7c02da0>"
      ]
     },
     "execution_count": 47,
     "metadata": {},
     "output_type": "execute_result"
    }
   ],
   "source": [
    "batata.fit(x_train, y_train, validation_data = (x_test, y_test), epochs = 10, batch_size = 200)\n"
   ]
  },
  {
   "cell_type": "code",
   "execution_count": 41,
   "metadata": {},
   "outputs": [
    {
     "name": "stdout",
     "output_type": "stream",
     "text": [
      "\n",
      "acc: 99.28%\n"
     ]
    }
   ],
   "source": [
    "results = batata.evaluate(x_test, y_test, verbose = 0)\n",
    "print(\"\\nacc: %.2f%%\" %(results[1]*100))"
   ]
  },
  {
   "cell_type": "code",
   "execution_count": 53,
   "metadata": {},
   "outputs": [
    {
     "name": "stdout",
     "output_type": "stream",
     "text": [
      "A probabilidade de ser um  5 é de: 100.00%\n"
     ]
    },
    {
     "data": {
      "image/png": "[encoded data removed]",
      "text/plain": [
       "<Figure size 432x288 with 1 Axes>"
      ]
     },
     "metadata": {},
     "output_type": "display_data"
    }
   ],
   "source": [
    "#Importa imagem, redimensiona e a testa na rede\n",
    "img = cv2.imread(\"INSIRA_AQUI.png\", 0)\n",
    "\n",
    "plt.imshow(img, cmap = 'gray')\n",
    "\n",
    "if img.shape != [28, 28]:\n",
    "    img2 = cv2.resize(img, (28, 28))\n",
    "    img = img2.reshape(28, 28, -1)\n",
    "else:\n",
    "    img = img.reshape(28, 28, -1)\n",
    "\n",
    "img = img.reshape(1, 1, 28, 28)\n",
    "\n",
    "result = batata.predict_classes(img)\n",
    "result_prob = batata.predict_proba(img)\n",
    "result_prob = \"%.2f%%\" %(result_prob[0][result]*100)\n",
    "\n",
    "print(\"A probabilidade de ser um \", result[0], \"é de:\", result_prob)"
   ]
  }
 ],
 "metadata": {
  "kernelspec": {
   "display_name": "Python 3",
   "language": "python",
   "name": "python3"
  },
  "language_info": {
   "codemirror_mode": {
    "name": "ipython",
    "version": 3
   },
   "file_extension": ".py",
   "mimetype": "text/x-python",
   "name": "python",
   "nbconvert_exporter": "python",
   "pygments_lexer": "ipython3",
   "version": "3.6.5"
  }
 },
 "nbformat": 4,
 "nbformat_minor": 2
}
